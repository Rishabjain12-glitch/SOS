import numpy as np
import pandas as pd
from sklearn.model_selection import train_test_split
from sklearn.ensemble import RandomForestRegressor
from sklearn.metrics import mean_absolute_error,r2_score
df = pd.read_csv('House Price India.csv')
df_cleaned = df.drop(columns = ['Date','Id'])
x = df_cleaned.drop(columns = ['price'])
y = df_cleaned[columns = 'price'] 
x = x.fillna(x.mean())
X_train, X_test, y_train, y_test = train_test_split(x, y, test_size=0.2, random_state=42)
rf = RandomForestRegressor(n_estimators=100, random_state=42)
rf.fit(X_train, y_train)
y_pred = rf.predict(X_test)
mae = mean_absolute_error(y_test, y_pred)
r2 = r2_score(y_test, y_pred)
